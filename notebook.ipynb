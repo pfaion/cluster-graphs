{
 "cells": [
  {
   "cell_type": "markdown",
   "metadata": {
    "toc": "true"
   },
   "source": [
    "# Table of Contents\n",
    " <p><div class=\"lev1 toc-item\"><a href=\"#Cluster-Graph-Belief-Propagation\" data-toc-modified-id=\"Cluster-Graph-Belief-Propagation-1\"><span class=\"toc-item-num\">1&nbsp;&nbsp;</span>Cluster Graph Belief Propagation</a></div><div class=\"lev2 toc-item\"><a href=\"#About-this-notebook\" data-toc-modified-id=\"About-this-notebook-1.1\"><span class=\"toc-item-num\">1.1&nbsp;&nbsp;</span>About this notebook</a></div><div class=\"lev2 toc-item\"><a href=\"#Modeling-Distributions\" data-toc-modified-id=\"Modeling-Distributions-1.2\"><span class=\"toc-item-num\">1.2&nbsp;&nbsp;</span>Modeling Distributions</a></div>"
   ]
  },
  {
   "cell_type": "markdown",
   "metadata": {},
   "source": [
    "# Cluster Graph Belief Propagation"
   ]
  },
  {
   "cell_type": "markdown",
   "metadata": {},
   "source": [
    "## About this notebook"
   ]
  },
  {
   "cell_type": "markdown",
   "metadata": {
    "collapsed": false,
    "focus": true,
    "id": "3459867a-644d-4757-abc4-bc88c1e998c9"
   },
   "source": [
    "This notebook is a demonstration of the cluster graph belief propagation algorithm, implemented in Python 3.5 **without any libraries for probability calculations** in order to not hide any important information processing. The [pandas library](http://pandas.pydata.org/) is used to generally model a tabular distrubution and additional functions are added to provide computations that are relevant for probability theory."
   ]
  },
  {
   "cell_type": "markdown",
   "metadata": {
    "collapsed": true
   },
   "source": [
    "## Modeling Distributions"
   ]
  },
  {
   "cell_type": "markdown",
   "metadata": {},
   "source": [
    "The easiest way to represent distributions for this example is as joint distribution tables over a set of variables. The values do not have to probabilities, since the algorithm works also for markov random fields. Such a tabl\n",
    "\n",
    "| a | b | P(A=a, B=b) |\n",
    "|---|---|---          |\n",
    "| $a_0$ | $b_0$ | 10  |\n",
    "| $a_0$ | $b_1$ | 0.1 |\n",
    "| $a_1$ | $b_0$ | 0.1 |\n",
    "| $a_1$ | $b_1$ | 5   |\n",
    "\n"
   ]
  },
  {
   "cell_type": "code",
   "execution_count": null,
   "metadata": {
    "collapsed": true
   },
   "outputs": [],
   "source": []
  },
  {
   "cell_type": "code",
   "execution_count": null,
   "metadata": {
    "collapsed": true
   },
   "outputs": [],
   "source": []
  }
 ],
 "metadata": {
  "kernelspec": {
   "display_name": "Python 3",
   "language": "python",
   "name": "python3"
  },
  "language_info": {
   "codemirror_mode": {
    "name": "ipython",
    "version": 3
   },
   "file_extension": ".py",
   "mimetype": "text/x-python",
   "name": "python",
   "nbconvert_exporter": "python",
   "pygments_lexer": "ipython3",
   "version": "3.5.2"
  },
  "nav_menu": {},
  "toc": {
   "navigate_menu": true,
   "number_sections": false,
   "sideBar": true,
   "threshold": 6,
   "toc_cell": true,
   "toc_section_display": "block",
   "toc_window_display": true
  },
  "toc_position": {
   "height": "1182px",
   "left": "0px",
   "right": "1068px",
   "top": "106px",
   "width": "212px"
  }
 },
 "nbformat": 4,
 "nbformat_minor": 0
}
