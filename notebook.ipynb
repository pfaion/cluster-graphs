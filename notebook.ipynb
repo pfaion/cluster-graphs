{
 "cells": [
  {
   "cell_type": "markdown",
   "metadata": {},
   "source": [
    "# Cluster Graph Belief Propagation"
   ]
  },
  {
   "cell_type": "markdown",
   "metadata": {},
   "source": [
    "<a id='1'></a>\n",
    "## 1. Table of Contents\n",
    "\n",
    "* [1. Table of Contents](#1)\n",
    "* [2. About this Notebook](#2)\n",
    "* [3. Modeling Factors](#3)\n",
    "    * [3.1 Variables](#3.1)\n",
    "    * [3.2 Creating Tables](#3.2)\n",
    "    * [3.3 Accessing Values](#3.3)\n",
    "        * [3.3.1 Reading Variable Names](#3.3.1)\n",
    "        * [3.3.2 Selecting Rows](#3.3.2)\n",
    "        * [3.3.3 Access through Variable Assignment](#3.3.3)\n",
    "        * [3.3.4 Reading Variable Assignment](#3.3.4)\n",
    "    * [3.4 Factor Operations](#3.4)\n",
    "        * [3.4.1 Factor Product](#3.4.1)\n",
    "        * [3.4.2 Marginalization](#3.4.2)\n",
    "* [4. Example Experimental Setup](#4)\n",
    "    * [4.1 The Misconception Example](#4.1)\n",
    "    * [4.2 Creating the Factors](#4.2)\n",
    "* [5. CGBP Algorithm](#5)\n",
    "    * [5.1 Preparations: Create Cluster Graph](#5.1)\n",
    "    * [5.2 Initializations](#5.2)\n",
    "    * [5.3 Simulation run](#5.3)\n",
    "    * [5.4 Plotting](#5.4)"
   ]
  },
  {
   "cell_type": "markdown",
   "metadata": {},
   "source": [
    "<a id='2'></a>\n",
    "## 2. About this Notebook\n",
    "\n",
    "This notebook is a demonstration of the cluster graph belief propagation algorithm, implemented in Python 3.5 **without any libraries for probability calculations** in order to not hide any important information processing. The [pandas library](http://pandas.pydata.org/) is used to generally model a tabular distribution and additional functions are added to provide computations that are relevant for probability theory.\n",
    "\n",
    "The programming here was done without specifying any classes. It rather relies on python's basic functional programming abilities in order to emphasize the data transformations that are going on in the algorithm. Thus this notebook does not provide a library in any way, but rather a tutorial on how Cluster Graph Belief Propagation works in practice and how it could be implemented with basic python code (and pandas).\n",
    "\n",
    "Most of the work will be preparations in order to actually work with factors, thus [Part 3. Modeling Factors](#3) is very big. If you are only interested in the actual experimental setup and simulation of the cluster graph belief propagation algorithm, go ahead and skip to [Part 4. Example Experimental Setup](#4) or [Part 5. CGBP Algorithm](#5).\n",
    "\n",
    "Since we will need to call *reduce()* a couple of times for the functional approach and this is not included anymore by default in Python 3.5, we import it again."
   ]
  },
  {
   "cell_type": "code",
   "execution_count": 1,
   "metadata": {
    "collapsed": true
   },
   "outputs": [],
   "source": [
    "from functools import reduce"
   ]
  },
  {
   "cell_type": "markdown",
   "metadata": {
    "collapsed": true
   },
   "source": [
    "<a id='3'></a>\n",
    "## 3. Modeling Factors\n",
    "\n",
    "The easiest way to represent factors for this example is as distribution tables over a set of variables. The values do not have to correspond to probabilities, since the algorithm works also for markov random fields. Below is an example of how such a table over the variables A and B could look like.\n",
    "\n",
    "| a | b | $\\phi$(A=a, B=b) |\n",
    "|---|---|---          |\n",
    "| $a_0$ | $b_0$ | 10  |\n",
    "| $a_0$ | $b_1$ | 0.1 |\n",
    "| $a_1$ | $b_0$ | 0.1 |\n",
    "| $a_1$ | $b_1$ | 5   |"
   ]
  },
  {
   "cell_type": "markdown",
   "metadata": {},
   "source": [
    "<a id='3.1'></a>\n",
    "### 3.1 Variables\n",
    "\n",
    "For this example, we use the following discrete (even binary in this case) random variables:"
   ]
  },
  {
   "cell_type": "code",
   "execution_count": 2,
   "metadata": {
    "collapsed": true
   },
   "outputs": [],
   "source": [
    "variables = {\n",
    "    'A': [0, 1],\n",
    "    'B': [0, 1],\n",
    "    'C': [0, 1],\n",
    "    'D': [0, 1]\n",
    "}"
   ]
  },
  {
   "cell_type": "markdown",
   "metadata": {},
   "source": [
    "<a id='3.2'></a>\n",
    "### 3.2 Creating Tables\n",
    "In order to create a couple of these tables and work with them, we make a function which creates an empty table over a set of variables. The additional parameters come in handy later. "
   ]
  },
  {
   "cell_type": "code",
   "execution_count": 3,
   "metadata": {
    "collapsed": true
   },
   "outputs": [],
   "source": [
    "import pandas as pd\n",
    "\n",
    "def make_empty_table(variables, subset_keys = None, fill_value = 0):\n",
    "    \"\"\"Creates an empty table-dataframe with rows for all variables.\n",
    "    \n",
    "        variables (dict): lists of values for every variable\n",
    "        subset_keys: list of variables to include in the table\n",
    "        fill_value: initialization value\n",
    "        \n",
    "        returns: empty table-dataframe with a row for every variable combination\n",
    "    \"\"\"\n",
    "    \n",
    "    # if list of subset is set empty: return table with only one entry\n",
    "    if subset_keys == []:\n",
    "        return pd.DataFrame(fill_value, index = [0], columns = ['value'])\n",
    "    \n",
    "    # filter variable subset\n",
    "    if subset_keys:\n",
    "        variables = {key: variables[key] for key in subset_keys}\n",
    "    \n",
    "    # create a new pandas dataframe\n",
    "    # one row for every combination of variable values in the subset\n",
    "    # (by taking the cartesian product)\n",
    "    varnames = sorted(variables.keys())\n",
    "    varvalues = [variables[var] for var in varnames]\n",
    "    i = pd.MultiIndex.from_product(varvalues, names = varnames)\n",
    "    df = pd.DataFrame(fill_value, index = i, columns = ['value']).reset_index()\n",
    "    return df"
   ]
  },
  {
   "cell_type": "markdown",
   "metadata": {},
   "source": [
    "The underlying usage of pandas dataframes allow for some complex use cases: Here are some examples.\n",
    "\n",
    "Note: the numbers in the first column are the row indices that pandas generates automatically."
   ]
  },
  {
   "cell_type": "code",
   "execution_count": 4,
   "metadata": {
    "collapsed": false
   },
   "outputs": [
    {
     "data": {
      "text/html": [
       "<div>\n",
       "<table border=\"1\" class=\"dataframe\">\n",
       "  <thead>\n",
       "    <tr style=\"text-align: right;\">\n",
       "      <th></th>\n",
       "      <th>A</th>\n",
       "      <th>B</th>\n",
       "      <th>value</th>\n",
       "    </tr>\n",
       "  </thead>\n",
       "  <tbody>\n",
       "    <tr>\n",
       "      <th>0</th>\n",
       "      <td>0</td>\n",
       "      <td>0</td>\n",
       "      <td>0</td>\n",
       "    </tr>\n",
       "    <tr>\n",
       "      <th>1</th>\n",
       "      <td>0</td>\n",
       "      <td>1</td>\n",
       "      <td>0</td>\n",
       "    </tr>\n",
       "    <tr>\n",
       "      <th>2</th>\n",
       "      <td>1</td>\n",
       "      <td>0</td>\n",
       "      <td>0</td>\n",
       "    </tr>\n",
       "    <tr>\n",
       "      <th>3</th>\n",
       "      <td>1</td>\n",
       "      <td>1</td>\n",
       "      <td>0</td>\n",
       "    </tr>\n",
       "  </tbody>\n",
       "</table>\n",
       "</div>"
      ],
      "text/plain": [
       "   A  B  value\n",
       "0  0  0      0\n",
       "1  0  1      0\n",
       "2  1  0      0\n",
       "3  1  1      0"
      ]
     },
     "execution_count": 4,
     "metadata": {},
     "output_type": "execute_result"
    }
   ],
   "source": [
    "make_empty_table(variables, ['A', 'B'])"
   ]
  },
  {
   "cell_type": "code",
   "execution_count": 5,
   "metadata": {
    "collapsed": false
   },
   "outputs": [
    {
     "data": {
      "text/html": [
       "<div>\n",
       "<table border=\"1\" class=\"dataframe\">\n",
       "  <thead>\n",
       "    <tr style=\"text-align: right;\">\n",
       "      <th></th>\n",
       "      <th>A</th>\n",
       "      <th>B</th>\n",
       "      <th>value</th>\n",
       "    </tr>\n",
       "  </thead>\n",
       "  <tbody>\n",
       "    <tr>\n",
       "      <th>0</th>\n",
       "      <td>a0</td>\n",
       "      <td>0</td>\n",
       "      <td>42</td>\n",
       "    </tr>\n",
       "    <tr>\n",
       "      <th>1</th>\n",
       "      <td>a0</td>\n",
       "      <td>1</td>\n",
       "      <td>42</td>\n",
       "    </tr>\n",
       "    <tr>\n",
       "      <th>2</th>\n",
       "      <td>a1</td>\n",
       "      <td>0</td>\n",
       "      <td>42</td>\n",
       "    </tr>\n",
       "    <tr>\n",
       "      <th>3</th>\n",
       "      <td>a1</td>\n",
       "      <td>1</td>\n",
       "      <td>42</td>\n",
       "    </tr>\n",
       "    <tr>\n",
       "      <th>4</th>\n",
       "      <td>a2</td>\n",
       "      <td>0</td>\n",
       "      <td>42</td>\n",
       "    </tr>\n",
       "    <tr>\n",
       "      <th>5</th>\n",
       "      <td>a2</td>\n",
       "      <td>1</td>\n",
       "      <td>42</td>\n",
       "    </tr>\n",
       "  </tbody>\n",
       "</table>\n",
       "</div>"
      ],
      "text/plain": [
       "    A  B  value\n",
       "0  a0  0     42\n",
       "1  a0  1     42\n",
       "2  a1  0     42\n",
       "3  a1  1     42\n",
       "4  a2  0     42\n",
       "5  a2  1     42"
      ]
     },
     "execution_count": 5,
     "metadata": {},
     "output_type": "execute_result"
    }
   ],
   "source": [
    "make_empty_table(\n",
    "    variables = {\n",
    "        'A': ['a0', 'a1', 'a2'],\n",
    "        'B': [0, 1],\n",
    "        'C': [0, 1, 2]}, \n",
    "    subset_keys =['A', 'B'],\n",
    "    fill_value = 42)"
   ]
  },
  {
   "cell_type": "code",
   "execution_count": 6,
   "metadata": {
    "collapsed": false
   },
   "outputs": [
    {
     "data": {
      "text/html": [
       "<div>\n",
       "<table border=\"1\" class=\"dataframe\">\n",
       "  <thead>\n",
       "    <tr style=\"text-align: right;\">\n",
       "      <th></th>\n",
       "      <th>value</th>\n",
       "    </tr>\n",
       "  </thead>\n",
       "  <tbody>\n",
       "    <tr>\n",
       "      <th>0</th>\n",
       "      <td>1</td>\n",
       "    </tr>\n",
       "  </tbody>\n",
       "</table>\n",
       "</div>"
      ],
      "text/plain": [
       "   value\n",
       "0      1"
      ]
     },
     "execution_count": 6,
     "metadata": {},
     "output_type": "execute_result"
    }
   ],
   "source": [
    "make_empty_table(variables, [], 1)"
   ]
  },
  {
   "cell_type": "markdown",
   "metadata": {},
   "source": [
    "<a id='3.3'></a>\n",
    "### 3.3 Accessing Values\n",
    "\n",
    "Usual queries for distributions look like, e.g. **P(A=0, B=1)**, but pandas dataframes are not designed to allow for such descriptive access. In oder to make reading and writing values more intuitive, we need additional function wrappers."
   ]
  },
  {
   "cell_type": "markdown",
   "metadata": {
    "collapsed": true
   },
   "source": [
    "<a id='3.3.1'></a>\n",
    "#### 3.3.1 Reading Variable Names\n",
    "\n",
    "The first step is to access the actual random variables in a table-dataframe:"
   ]
  },
  {
   "cell_type": "code",
   "execution_count": 7,
   "metadata": {
    "collapsed": true
   },
   "outputs": [],
   "source": [
    "def column_varnames(columns):\n",
    "    \"\"\"Extract the variable names from a columns object.\n",
    "    \n",
    "        columns: a dataframe-columns object\n",
    "        \n",
    "        returns: a list of variable names\n",
    "    \"\"\"\n",
    "    \n",
    "    return sorted([var for var in columns if var != 'value'])\n",
    "\n",
    "\n",
    "\n",
    "def table_varnames(tab):\n",
    "    \"\"\"Extract the variable names from a table-dataframe.\n",
    "    \n",
    "        tab: a table-dataframe\n",
    "        \n",
    "        returns: a list of variable names\n",
    "    \"\"\"\n",
    "    \n",
    "    return column_varnames(tab.columns)"
   ]
  },
  {
   "cell_type": "markdown",
   "metadata": {},
   "source": [
    "Here are some examples of the usage:"
   ]
  },
  {
   "cell_type": "code",
   "execution_count": 8,
   "metadata": {
    "collapsed": false
   },
   "outputs": [
    {
     "data": {
      "text/html": [
       "<div>\n",
       "<table border=\"1\" class=\"dataframe\">\n",
       "  <thead>\n",
       "    <tr style=\"text-align: right;\">\n",
       "      <th></th>\n",
       "      <th>A</th>\n",
       "      <th>B</th>\n",
       "      <th>value</th>\n",
       "    </tr>\n",
       "  </thead>\n",
       "  <tbody>\n",
       "    <tr>\n",
       "      <th>0</th>\n",
       "      <td>0</td>\n",
       "      <td>0</td>\n",
       "      <td>0</td>\n",
       "    </tr>\n",
       "    <tr>\n",
       "      <th>1</th>\n",
       "      <td>0</td>\n",
       "      <td>1</td>\n",
       "      <td>0</td>\n",
       "    </tr>\n",
       "    <tr>\n",
       "      <th>2</th>\n",
       "      <td>1</td>\n",
       "      <td>0</td>\n",
       "      <td>0</td>\n",
       "    </tr>\n",
       "    <tr>\n",
       "      <th>3</th>\n",
       "      <td>1</td>\n",
       "      <td>1</td>\n",
       "      <td>0</td>\n",
       "    </tr>\n",
       "  </tbody>\n",
       "</table>\n",
       "</div>"
      ],
      "text/plain": [
       "   A  B  value\n",
       "0  0  0      0\n",
       "1  0  1      0\n",
       "2  1  0      0\n",
       "3  1  1      0"
      ]
     },
     "execution_count": 8,
     "metadata": {},
     "output_type": "execute_result"
    }
   ],
   "source": [
    "tmp_tab = make_empty_table(variables, ['A', 'B'])\n",
    "tmp_tab"
   ]
  },
  {
   "cell_type": "code",
   "execution_count": 9,
   "metadata": {
    "collapsed": false
   },
   "outputs": [
    {
     "data": {
      "text/plain": [
       "['A', 'B']"
      ]
     },
     "execution_count": 9,
     "metadata": {},
     "output_type": "execute_result"
    }
   ],
   "source": [
    "table_varnames(tmp_tab)"
   ]
  },
  {
   "cell_type": "code",
   "execution_count": 10,
   "metadata": {
    "collapsed": false
   },
   "outputs": [
    {
     "data": {
      "text/plain": [
       "Index(['A', 'B', 'value'], dtype='object')"
      ]
     },
     "execution_count": 10,
     "metadata": {},
     "output_type": "execute_result"
    }
   ],
   "source": [
    "tmp_tab.columns"
   ]
  },
  {
   "cell_type": "code",
   "execution_count": 11,
   "metadata": {
    "collapsed": false
   },
   "outputs": [
    {
     "data": {
      "text/plain": [
       "['A', 'B']"
      ]
     },
     "execution_count": 11,
     "metadata": {},
     "output_type": "execute_result"
    }
   ],
   "source": [
    "column_varnames(tmp_tab.columns)"
   ]
  },
  {
   "cell_type": "markdown",
   "metadata": {},
   "source": [
    "<a id='3.3.2'></a>\n",
    "#### 3.3.2 Selecting Rows\n",
    "\n",
    "The next step for accessing values is to get an actual reference on the values in the pandas dataframe. We want to access all rows, that contain a given assignment. So we first need to figure our for every row, if we actually want to include it. Since common variable assignments work as key-value-pair, we use a dictionary here."
   ]
  },
  {
   "cell_type": "code",
   "execution_count": 12,
   "metadata": {
    "collapsed": true
   },
   "outputs": [],
   "source": [
    "def get_row_bools(tab, assignment):\n",
    "    \"\"\"For a given table and assignment, check which rows fit.\n",
    "    \n",
    "        tab: table-dataframe\n",
    "        assignment (dict): variable assignment\n",
    "        \n",
    "        returns: table with booleans, indicating if the rows fit the assignment\n",
    "    \"\"\"\n",
    "    \n",
    "    # look at the table column-wise and check for every column, which rows to\n",
    "    # select for the given assignment\n",
    "    row_bools_each_column = [\n",
    "        tab[v] == assignment[v]\n",
    "        for v in table_varnames(tab)\n",
    "        if v in assignment.keys()\n",
    "    ]\n",
    "    \n",
    "    # reduce the list for all columns with AND, yields the booleans for the\n",
    "    # complete assignment\n",
    "    return reduce(lambda x,y: x & y, row_bools_each_column)"
   ]
  },
  {
   "cell_type": "markdown",
   "metadata": {},
   "source": [
    "Again an example, of what the function returns for a given table:"
   ]
  },
  {
   "cell_type": "code",
   "execution_count": 13,
   "metadata": {
    "collapsed": false
   },
   "outputs": [
    {
     "data": {
      "text/html": [
       "<div>\n",
       "<table border=\"1\" class=\"dataframe\">\n",
       "  <thead>\n",
       "    <tr style=\"text-align: right;\">\n",
       "      <th></th>\n",
       "      <th>A</th>\n",
       "      <th>B</th>\n",
       "      <th>value</th>\n",
       "    </tr>\n",
       "  </thead>\n",
       "  <tbody>\n",
       "    <tr>\n",
       "      <th>0</th>\n",
       "      <td>0</td>\n",
       "      <td>0</td>\n",
       "      <td>0</td>\n",
       "    </tr>\n",
       "    <tr>\n",
       "      <th>1</th>\n",
       "      <td>0</td>\n",
       "      <td>1</td>\n",
       "      <td>0</td>\n",
       "    </tr>\n",
       "    <tr>\n",
       "      <th>2</th>\n",
       "      <td>1</td>\n",
       "      <td>0</td>\n",
       "      <td>0</td>\n",
       "    </tr>\n",
       "    <tr>\n",
       "      <th>3</th>\n",
       "      <td>1</td>\n",
       "      <td>1</td>\n",
       "      <td>0</td>\n",
       "    </tr>\n",
       "  </tbody>\n",
       "</table>\n",
       "</div>"
      ],
      "text/plain": [
       "   A  B  value\n",
       "0  0  0      0\n",
       "1  0  1      0\n",
       "2  1  0      0\n",
       "3  1  1      0"
      ]
     },
     "execution_count": 13,
     "metadata": {},
     "output_type": "execute_result"
    }
   ],
   "source": [
    "tmp_tab"
   ]
  },
  {
   "cell_type": "code",
   "execution_count": 14,
   "metadata": {
    "collapsed": false
   },
   "outputs": [
    {
     "data": {
      "text/plain": [
       "0    False\n",
       "1     True\n",
       "2    False\n",
       "3    False\n",
       "dtype: bool"
      ]
     },
     "execution_count": 14,
     "metadata": {},
     "output_type": "execute_result"
    }
   ],
   "source": [
    "get_row_bools(tmp_tab, assignment={'A': 0, 'B': 1})"
   ]
  },
  {
   "cell_type": "markdown",
   "metadata": {},
   "source": [
    "It is also possible to specify incomplete assignments, resulting in a set of rows being selected:"
   ]
  },
  {
   "cell_type": "code",
   "execution_count": 15,
   "metadata": {
    "collapsed": false
   },
   "outputs": [
    {
     "data": {
      "text/plain": [
       "0     True\n",
       "1     True\n",
       "2    False\n",
       "3    False\n",
       "Name: A, dtype: bool"
      ]
     },
     "execution_count": 15,
     "metadata": {},
     "output_type": "execute_result"
    }
   ],
   "source": [
    "get_row_bools(tmp_tab, assignment={'A': 0})"
   ]
  },
  {
   "cell_type": "markdown",
   "metadata": {},
   "source": [
    "<a id='3.3.3'></a>\n",
    "#### 3.3.3 Access through Variable Assignment\n",
    "\n",
    "Now we can define a function to write values for a given variable assignment. This works with the pandas lable-indexer **.loc()**."
   ]
  },
  {
   "cell_type": "code",
   "execution_count": 16,
   "metadata": {
    "collapsed": true
   },
   "outputs": [],
   "source": [
    "def set_assignment(tab, assignment, value):\n",
    "    \"\"\"Write values in table for variable assignment.\n",
    "        \n",
    "        tab: the table-dataframe\n",
    "        assignment (dict): the variable assignment\n",
    "        value: the value to put into all selected rows\n",
    "    \"\"\"\n",
    "    \n",
    "    tab.loc[get_row_bools(tab, assignment), 'value'] = value"
   ]
  },
  {
   "cell_type": "code",
   "execution_count": 17,
   "metadata": {
    "collapsed": false
   },
   "outputs": [
    {
     "data": {
      "text/html": [
       "<div>\n",
       "<table border=\"1\" class=\"dataframe\">\n",
       "  <thead>\n",
       "    <tr style=\"text-align: right;\">\n",
       "      <th></th>\n",
       "      <th>A</th>\n",
       "      <th>B</th>\n",
       "      <th>value</th>\n",
       "    </tr>\n",
       "  </thead>\n",
       "  <tbody>\n",
       "    <tr>\n",
       "      <th>0</th>\n",
       "      <td>0</td>\n",
       "      <td>0</td>\n",
       "      <td>0</td>\n",
       "    </tr>\n",
       "    <tr>\n",
       "      <th>1</th>\n",
       "      <td>0</td>\n",
       "      <td>1</td>\n",
       "      <td>0</td>\n",
       "    </tr>\n",
       "    <tr>\n",
       "      <th>2</th>\n",
       "      <td>1</td>\n",
       "      <td>0</td>\n",
       "      <td>0</td>\n",
       "    </tr>\n",
       "    <tr>\n",
       "      <th>3</th>\n",
       "      <td>1</td>\n",
       "      <td>1</td>\n",
       "      <td>0</td>\n",
       "    </tr>\n",
       "  </tbody>\n",
       "</table>\n",
       "</div>"
      ],
      "text/plain": [
       "   A  B  value\n",
       "0  0  0      0\n",
       "1  0  1      0\n",
       "2  1  0      0\n",
       "3  1  1      0"
      ]
     },
     "execution_count": 17,
     "metadata": {},
     "output_type": "execute_result"
    }
   ],
   "source": [
    "tmp_tab"
   ]
  },
  {
   "cell_type": "code",
   "execution_count": 18,
   "metadata": {
    "collapsed": false
   },
   "outputs": [
    {
     "data": {
      "text/html": [
       "<div>\n",
       "<table border=\"1\" class=\"dataframe\">\n",
       "  <thead>\n",
       "    <tr style=\"text-align: right;\">\n",
       "      <th></th>\n",
       "      <th>A</th>\n",
       "      <th>B</th>\n",
       "      <th>value</th>\n",
       "    </tr>\n",
       "  </thead>\n",
       "  <tbody>\n",
       "    <tr>\n",
       "      <th>0</th>\n",
       "      <td>0</td>\n",
       "      <td>0</td>\n",
       "      <td>0</td>\n",
       "    </tr>\n",
       "    <tr>\n",
       "      <th>1</th>\n",
       "      <td>0</td>\n",
       "      <td>1</td>\n",
       "      <td>42</td>\n",
       "    </tr>\n",
       "    <tr>\n",
       "      <th>2</th>\n",
       "      <td>1</td>\n",
       "      <td>0</td>\n",
       "      <td>0</td>\n",
       "    </tr>\n",
       "    <tr>\n",
       "      <th>3</th>\n",
       "      <td>1</td>\n",
       "      <td>1</td>\n",
       "      <td>0</td>\n",
       "    </tr>\n",
       "  </tbody>\n",
       "</table>\n",
       "</div>"
      ],
      "text/plain": [
       "   A  B  value\n",
       "0  0  0      0\n",
       "1  0  1     42\n",
       "2  1  0      0\n",
       "3  1  1      0"
      ]
     },
     "execution_count": 18,
     "metadata": {},
     "output_type": "execute_result"
    }
   ],
   "source": [
    "set_assignment(tmp_tab, {'A': 0, 'B': 1}, 42)\n",
    "tmp_tab"
   ]
  },
  {
   "cell_type": "code",
   "execution_count": 19,
   "metadata": {
    "collapsed": false
   },
   "outputs": [
    {
     "data": {
      "text/html": [
       "<div>\n",
       "<table border=\"1\" class=\"dataframe\">\n",
       "  <thead>\n",
       "    <tr style=\"text-align: right;\">\n",
       "      <th></th>\n",
       "      <th>A</th>\n",
       "      <th>B</th>\n",
       "      <th>value</th>\n",
       "    </tr>\n",
       "  </thead>\n",
       "  <tbody>\n",
       "    <tr>\n",
       "      <th>0</th>\n",
       "      <td>0</td>\n",
       "      <td>0</td>\n",
       "      <td>0</td>\n",
       "    </tr>\n",
       "    <tr>\n",
       "      <th>1</th>\n",
       "      <td>0</td>\n",
       "      <td>1</td>\n",
       "      <td>42</td>\n",
       "    </tr>\n",
       "    <tr>\n",
       "      <th>2</th>\n",
       "      <td>1</td>\n",
       "      <td>0</td>\n",
       "      <td>-1</td>\n",
       "    </tr>\n",
       "    <tr>\n",
       "      <th>3</th>\n",
       "      <td>1</td>\n",
       "      <td>1</td>\n",
       "      <td>-1</td>\n",
       "    </tr>\n",
       "  </tbody>\n",
       "</table>\n",
       "</div>"
      ],
      "text/plain": [
       "   A  B  value\n",
       "0  0  0      0\n",
       "1  0  1     42\n",
       "2  1  0     -1\n",
       "3  1  1     -1"
      ]
     },
     "execution_count": 19,
     "metadata": {},
     "output_type": "execute_result"
    }
   ],
   "source": [
    "set_assignment(tmp_tab, {'A': 1}, -1)\n",
    "tmp_tab"
   ]
  },
  {
   "cell_type": "markdown",
   "metadata": {
    "collapsed": true
   },
   "source": [
    "<a id='3.3.4'></a>\n",
    "#### 3.3.4 Reading Variable Assignment\n",
    "\n",
    "For reading out the tables (e.g. for plotting) it will be important to read the variable assignments for the rows. Thus we need to define another function for this:"
   ]
  },
  {
   "cell_type": "code",
   "execution_count": 20,
   "metadata": {
    "collapsed": true
   },
   "outputs": [],
   "source": [
    "def get_assignment_for_row(table, row):\n",
    "    \"\"\"Returns the variable assignment for a row.\n",
    "        \n",
    "        table: the table-dataframe\n",
    "        row: the row to access\n",
    "        \n",
    "        returns (dict): variable assignment of the row\n",
    "    \"\"\"\n",
    "    \n",
    "    return {v: table[v][row] for v in table_varnames(table)}"
   ]
  },
  {
   "cell_type": "markdown",
   "metadata": {},
   "source": [
    "See an example:"
   ]
  },
  {
   "cell_type": "code",
   "execution_count": 21,
   "metadata": {
    "collapsed": false
   },
   "outputs": [
    {
     "data": {
      "text/plain": [
       "{'A': 1, 'B': 0}"
      ]
     },
     "execution_count": 21,
     "metadata": {},
     "output_type": "execute_result"
    }
   ],
   "source": [
    "get_assignment_for_row(tmp_tab, 2)"
   ]
  },
  {
   "cell_type": "markdown",
   "metadata": {},
   "source": [
    "<a id='3.4'></a>\n",
    "### 3.4 Factor Operations\n",
    "\n",
    "Now in order to use these tables to work with distributions, we need basic operators on distributions, namely the factor product between two factors and the option to marginalize a factor with respect to a set of variables."
   ]
  },
  {
   "cell_type": "markdown",
   "metadata": {},
   "source": [
    "<a id='3.4.1'></a>\n",
    "#### 3.4.1 Factor Product"
   ]
  },
  {
   "cell_type": "code",
   "execution_count": 22,
   "metadata": {
    "collapsed": true
   },
   "outputs": [],
   "source": [
    "def multiply_tables(tab1, tab2):\n",
    "    \"\"\"Compute the factor product of two tables.\n",
    "        \n",
    "        tab1: first table\n",
    "        tab2: second table\n",
    "        \n",
    "        returns: the factor product of tab1 and tab2\n",
    "    \"\"\"\n",
    "    \n",
    "    # check intersection and union of the variable sets\n",
    "    varnames_intersect = column_varnames(tab1.columns & tab2.columns)\n",
    "    varnames_union = column_varnames(tab1.columns | tab2.columns)\n",
    "    \n",
    "    # if the tables do not intersect, add additional merge key\n",
    "    if not varnames_intersect:\n",
    "        # copy to avoid side effects\n",
    "        tab1 = tab1.copy()\n",
    "        tab2 = tab2.copy()\n",
    "        tab1['mergekey'] = 1\n",
    "        tab2['mergekey'] = 1\n",
    "        varnames_intersect = 'mergekey'\n",
    "    \n",
    "    # merge tables on intersection-set (or mergekey)\n",
    "    tab3 = pd.merge(tab1, tab2, on = varnames_intersect)\n",
    "    \n",
    "    # compute value multiplication\n",
    "    tab3['value'] = tab3['value_x'] * tab3['value_y']\n",
    "    \n",
    "    # select only the variables we need (union + 'Value')\n",
    "    tab3 = tab3[varnames_union + ['value']]\n",
    "    \n",
    "    return tab3"
   ]
  },
  {
   "cell_type": "markdown",
   "metadata": {},
   "source": [
    "Now again an example of how to use this... let's make two tables and multiply them:"
   ]
  },
  {
   "cell_type": "code",
   "execution_count": 23,
   "metadata": {
    "collapsed": false
   },
   "outputs": [
    {
     "data": {
      "text/html": [
       "<div>\n",
       "<table border=\"1\" class=\"dataframe\">\n",
       "  <thead>\n",
       "    <tr style=\"text-align: right;\">\n",
       "      <th></th>\n",
       "      <th>A</th>\n",
       "      <th>B</th>\n",
       "      <th>value</th>\n",
       "    </tr>\n",
       "  </thead>\n",
       "  <tbody>\n",
       "    <tr>\n",
       "      <th>0</th>\n",
       "      <td>0</td>\n",
       "      <td>0</td>\n",
       "      <td>30</td>\n",
       "    </tr>\n",
       "    <tr>\n",
       "      <th>1</th>\n",
       "      <td>0</td>\n",
       "      <td>1</td>\n",
       "      <td>5</td>\n",
       "    </tr>\n",
       "    <tr>\n",
       "      <th>2</th>\n",
       "      <td>1</td>\n",
       "      <td>0</td>\n",
       "      <td>1</td>\n",
       "    </tr>\n",
       "    <tr>\n",
       "      <th>3</th>\n",
       "      <td>1</td>\n",
       "      <td>1</td>\n",
       "      <td>10</td>\n",
       "    </tr>\n",
       "  </tbody>\n",
       "</table>\n",
       "</div>"
      ],
      "text/plain": [
       "   A  B  value\n",
       "0  0  0     30\n",
       "1  0  1      5\n",
       "2  1  0      1\n",
       "3  1  1     10"
      ]
     },
     "execution_count": 23,
     "metadata": {},
     "output_type": "execute_result"
    }
   ],
   "source": [
    "tmp_tab1 = make_empty_table(variables, ['A', 'B'])\n",
    "for (a, b, val) in [(0, 0, 30),\n",
    "                    (0, 1, 5),\n",
    "                    (1, 0, 1),\n",
    "                    (1, 1, 10)]:\n",
    "    set_assignment(tmp_tab1, {'A': a, 'B': b}, val)\n",
    "tmp_tab1"
   ]
  },
  {
   "cell_type": "code",
   "execution_count": 24,
   "metadata": {
    "collapsed": false
   },
   "outputs": [
    {
     "data": {
      "text/html": [
       "<div>\n",
       "<table border=\"1\" class=\"dataframe\">\n",
       "  <thead>\n",
       "    <tr style=\"text-align: right;\">\n",
       "      <th></th>\n",
       "      <th>A</th>\n",
       "      <th>C</th>\n",
       "      <th>value</th>\n",
       "    </tr>\n",
       "  </thead>\n",
       "  <tbody>\n",
       "    <tr>\n",
       "      <th>0</th>\n",
       "      <td>0</td>\n",
       "      <td>0</td>\n",
       "      <td>0.1</td>\n",
       "    </tr>\n",
       "    <tr>\n",
       "      <th>1</th>\n",
       "      <td>0</td>\n",
       "      <td>1</td>\n",
       "      <td>1.0</td>\n",
       "    </tr>\n",
       "    <tr>\n",
       "      <th>2</th>\n",
       "      <td>1</td>\n",
       "      <td>0</td>\n",
       "      <td>2.0</td>\n",
       "    </tr>\n",
       "    <tr>\n",
       "      <th>3</th>\n",
       "      <td>1</td>\n",
       "      <td>1</td>\n",
       "      <td>5.0</td>\n",
       "    </tr>\n",
       "  </tbody>\n",
       "</table>\n",
       "</div>"
      ],
      "text/plain": [
       "   A  C  value\n",
       "0  0  0    0.1\n",
       "1  0  1    1.0\n",
       "2  1  0    2.0\n",
       "3  1  1    5.0"
      ]
     },
     "execution_count": 24,
     "metadata": {},
     "output_type": "execute_result"
    }
   ],
   "source": [
    "tmp_tab2 = make_empty_table(variables, ['A', 'C'])\n",
    "for (a, c, val) in [(0, 0, 0.1),\n",
    "                    (0, 1, 1),\n",
    "                    (1, 0, 2),\n",
    "                    (1, 1, 5)]:\n",
    "    set_assignment(tmp_tab2, {'A': a, 'C': c}, val)\n",
    "tmp_tab2"
   ]
  },
  {
   "cell_type": "code",
   "execution_count": 25,
   "metadata": {
    "collapsed": false
   },
   "outputs": [
    {
     "data": {
      "text/html": [
       "<div>\n",
       "<table border=\"1\" class=\"dataframe\">\n",
       "  <thead>\n",
       "    <tr style=\"text-align: right;\">\n",
       "      <th></th>\n",
       "      <th>A</th>\n",
       "      <th>B</th>\n",
       "      <th>C</th>\n",
       "      <th>value</th>\n",
       "    </tr>\n",
       "  </thead>\n",
       "  <tbody>\n",
       "    <tr>\n",
       "      <th>0</th>\n",
       "      <td>0</td>\n",
       "      <td>0</td>\n",
       "      <td>0</td>\n",
       "      <td>3.0</td>\n",
       "    </tr>\n",
       "    <tr>\n",
       "      <th>1</th>\n",
       "      <td>0</td>\n",
       "      <td>0</td>\n",
       "      <td>1</td>\n",
       "      <td>30.0</td>\n",
       "    </tr>\n",
       "    <tr>\n",
       "      <th>2</th>\n",
       "      <td>0</td>\n",
       "      <td>1</td>\n",
       "      <td>0</td>\n",
       "      <td>0.5</td>\n",
       "    </tr>\n",
       "    <tr>\n",
       "      <th>3</th>\n",
       "      <td>0</td>\n",
       "      <td>1</td>\n",
       "      <td>1</td>\n",
       "      <td>5.0</td>\n",
       "    </tr>\n",
       "    <tr>\n",
       "      <th>4</th>\n",
       "      <td>1</td>\n",
       "      <td>0</td>\n",
       "      <td>0</td>\n",
       "      <td>2.0</td>\n",
       "    </tr>\n",
       "    <tr>\n",
       "      <th>5</th>\n",
       "      <td>1</td>\n",
       "      <td>0</td>\n",
       "      <td>1</td>\n",
       "      <td>5.0</td>\n",
       "    </tr>\n",
       "    <tr>\n",
       "      <th>6</th>\n",
       "      <td>1</td>\n",
       "      <td>1</td>\n",
       "      <td>0</td>\n",
       "      <td>20.0</td>\n",
       "    </tr>\n",
       "    <tr>\n",
       "      <th>7</th>\n",
       "      <td>1</td>\n",
       "      <td>1</td>\n",
       "      <td>1</td>\n",
       "      <td>50.0</td>\n",
       "    </tr>\n",
       "  </tbody>\n",
       "</table>\n",
       "</div>"
      ],
      "text/plain": [
       "   A  B  C  value\n",
       "0  0  0  0    3.0\n",
       "1  0  0  1   30.0\n",
       "2  0  1  0    0.5\n",
       "3  0  1  1    5.0\n",
       "4  1  0  0    2.0\n",
       "5  1  0  1    5.0\n",
       "6  1  1  0   20.0\n",
       "7  1  1  1   50.0"
      ]
     },
     "execution_count": 25,
     "metadata": {},
     "output_type": "execute_result"
    }
   ],
   "source": [
    "tmp_tab_multi = multiply_tables(tmp_tab1, tmp_tab2)\n",
    "tmp_tab_multi"
   ]
  },
  {
   "cell_type": "markdown",
   "metadata": {},
   "source": [
    "<a id='3.4.2'></a>\n",
    "#### 3.4.2 Marginalization"
   ]
  },
  {
   "cell_type": "code",
   "execution_count": 26,
   "metadata": {
    "collapsed": true
   },
   "outputs": [],
   "source": [
    "def marginalize(tab, margin_vars):\n",
    "    \"\"\"Compute marginalization of table with respect to variable set.\n",
    "    \n",
    "        tab: table to marginalize\n",
    "        margin_vars: variable set to marginlize over\n",
    "        \n",
    "        returns: marginalized table\n",
    "    \"\"\"\n",
    "    \n",
    "    # check which variables to keep\n",
    "    vars_to_keep = [v for v in table_varnames(tab) if v not in margin_vars]\n",
    "    \n",
    "    # keep these variables and sum over the value for all other variables\n",
    "    return (tab.groupby(vars_to_keep).sum())[['value']].reset_index()"
   ]
  },
  {
   "cell_type": "markdown",
   "metadata": {},
   "source": [
    "Now we can marginalize over the multiplied table:"
   ]
  },
  {
   "cell_type": "code",
   "execution_count": 27,
   "metadata": {
    "collapsed": false
   },
   "outputs": [
    {
     "data": {
      "text/html": [
       "<div>\n",
       "<table border=\"1\" class=\"dataframe\">\n",
       "  <thead>\n",
       "    <tr style=\"text-align: right;\">\n",
       "      <th></th>\n",
       "      <th>A</th>\n",
       "      <th>B</th>\n",
       "      <th>value</th>\n",
       "    </tr>\n",
       "  </thead>\n",
       "  <tbody>\n",
       "    <tr>\n",
       "      <th>0</th>\n",
       "      <td>0</td>\n",
       "      <td>0</td>\n",
       "      <td>33.0</td>\n",
       "    </tr>\n",
       "    <tr>\n",
       "      <th>1</th>\n",
       "      <td>0</td>\n",
       "      <td>1</td>\n",
       "      <td>5.5</td>\n",
       "    </tr>\n",
       "    <tr>\n",
       "      <th>2</th>\n",
       "      <td>1</td>\n",
       "      <td>0</td>\n",
       "      <td>7.0</td>\n",
       "    </tr>\n",
       "    <tr>\n",
       "      <th>3</th>\n",
       "      <td>1</td>\n",
       "      <td>1</td>\n",
       "      <td>70.0</td>\n",
       "    </tr>\n",
       "  </tbody>\n",
       "</table>\n",
       "</div>"
      ],
      "text/plain": [
       "   A  B  value\n",
       "0  0  0   33.0\n",
       "1  0  1    5.5\n",
       "2  1  0    7.0\n",
       "3  1  1   70.0"
      ]
     },
     "execution_count": 27,
     "metadata": {},
     "output_type": "execute_result"
    }
   ],
   "source": [
    "marginalize(tmp_tab_multi, ['C'])"
   ]
  },
  {
   "cell_type": "markdown",
   "metadata": {},
   "source": [
    "As you can see, this table does not correspond to *tmp_tab1* anymore, since it incorporates additional information that came from *tmp_tab2*."
   ]
  },
  {
   "cell_type": "markdown",
   "metadata": {},
   "source": [
    "<a id='4'></a>\n",
    "## 4. Example Experimental Setup\n",
    "\n",
    "Now that we have our basic tools for working with factor tables, we can create a small experimental setup to apply the cluster graph belief propagation algorithm on later."
   ]
  },
  {
   "cell_type": "markdown",
   "metadata": {},
   "source": [
    "<a id='4.1'></a>\n",
    "### 4.1 The Misconception Example\n",
    "\n",
    "The misconception example is a simple markov network, used for illustration purposes in\n",
    "\n",
    "> Koller, Daphne, and Nir Friedman. *Probabilistic Graphical Models: Principles and Techniques.* Cambridge, MA: MIT, 2009. Print.\n",
    "\n",
    "The graph looks like this:\n",
    "\n",
    "<img src=\"markov.png\" width=\"200px\" />\n",
    "\n",
    "And the specific factors are:\n",
    "\n",
    "| a | b | $\\phi_0$(A=a, B=b) |\n",
    "|---|---|---|\n",
    "| $a_0$ | $b_0$ | 30 |\n",
    "| $a_0$ | $b_1$ | 5 |\n",
    "| $a_1$ | $b_0$ | 1 |\n",
    "| $a_1$ | $b_1$ | 10 |\n",
    "\n",
    "| b | c | $\\phi_1$(B=b, C=c) |\n",
    "|---|---|---|\n",
    "| $b_0$ | $c_0$ | 100 |\n",
    "| $b_0$ | $c_1$ | 1 |\n",
    "| $b_1$ | $c_0$ | 1 |\n",
    "| $b_1$ | $c_1$ | 100 |\n",
    "\n",
    "| c | d | $\\phi_2$(C=c, D=d) |\n",
    "|---|---|---|\n",
    "| $c_0$ | $d_0$ | 1 |\n",
    "| $c_0$ | $d_1$ | 100 |\n",
    "| $c_1$ | $d_0$ | 100 |\n",
    "| $c_1$ | $d_1$ | 1 |\n",
    "\n",
    "| d | a | $\\phi_3$(D=d, A=a) |\n",
    "|---|---|---|\n",
    "| $d_0$ | $a_0$ | 100 |\n",
    "| $d_0$ | $a_1$ | 1 |\n",
    "| $d_1$ | $a_0$ | 1 |\n",
    "| $d_1$ | $a_1$ | 100 |"
   ]
  },
  {
   "cell_type": "markdown",
   "metadata": {},
   "source": [
    "<a id='4.2'></a>\n",
    "### 4.2 Creating the Factors\n",
    "\n",
    "In order to simulate the cluster graph belief propagation algorithm for this example, we need to create the factors with our new tools:"
   ]
  },
  {
   "cell_type": "code",
   "execution_count": 28,
   "metadata": {
    "collapsed": false
   },
   "outputs": [],
   "source": [
    "# available variables and their possible values\n",
    "variables = {\n",
    "    'A': [0, 1],\n",
    "    'B': [0, 1],\n",
    "    'C': [0, 1],\n",
    "    'D': [0, 1]\n",
    "}\n",
    "\n",
    "# initialize empty factors over their variables\n",
    "phi0 = make_empty_table(variables, ['A', 'B'])\n",
    "phi1 = make_empty_table(variables, ['B', 'C'])\n",
    "phi2 = make_empty_table(variables, ['C', 'D'])\n",
    "phi3 = make_empty_table(variables, ['D', 'A'])\n",
    "\n",
    "# set values for all factors\n",
    "for (a, b, val) in [(0, 0, 30),\n",
    "                    (0, 1, 5),\n",
    "                    (1, 0, 1),\n",
    "                    (1, 1, 10)]:\n",
    "    set_assignment(phi0, {'A': a, 'B': b}, val)\n",
    "for (b, c, val) in [(0, 0, 100),\n",
    "                    (0, 1, 1),\n",
    "                    (1, 0, 1),\n",
    "                    (1, 1, 100)]:\n",
    "    set_assignment(phi1, {'B': b, 'C': c}, val)\n",
    "for (c, d, val) in [(0, 0, 1),\n",
    "                    (0, 1, 100),\n",
    "                    (1, 0, 100),\n",
    "                    (1, 1, 1)]:\n",
    "    set_assignment(phi2, {'C': c, 'D': d}, val)\n",
    "for (d, a, val) in [(0, 0, 100),\n",
    "                    (0, 1, 1),\n",
    "                    (1, 0, 1),\n",
    "                    (1, 1, 100)]:\n",
    "    set_assignment(phi3, {'D': d, 'A': a}, val)\n",
    "\n",
    "# list of all factors\n",
    "factors = [phi0, phi1, phi2, phi3]"
   ]
  },
  {
   "cell_type": "markdown",
   "metadata": {},
   "source": [
    "Now e.g. factor $\\phi_0$ looks like this:"
   ]
  },
  {
   "cell_type": "code",
   "execution_count": 29,
   "metadata": {
    "collapsed": false
   },
   "outputs": [
    {
     "data": {
      "text/html": [
       "<div>\n",
       "<table border=\"1\" class=\"dataframe\">\n",
       "  <thead>\n",
       "    <tr style=\"text-align: right;\">\n",
       "      <th></th>\n",
       "      <th>A</th>\n",
       "      <th>B</th>\n",
       "      <th>value</th>\n",
       "    </tr>\n",
       "  </thead>\n",
       "  <tbody>\n",
       "    <tr>\n",
       "      <th>0</th>\n",
       "      <td>0</td>\n",
       "      <td>0</td>\n",
       "      <td>30</td>\n",
       "    </tr>\n",
       "    <tr>\n",
       "      <th>1</th>\n",
       "      <td>0</td>\n",
       "      <td>1</td>\n",
       "      <td>5</td>\n",
       "    </tr>\n",
       "    <tr>\n",
       "      <th>2</th>\n",
       "      <td>1</td>\n",
       "      <td>0</td>\n",
       "      <td>1</td>\n",
       "    </tr>\n",
       "    <tr>\n",
       "      <th>3</th>\n",
       "      <td>1</td>\n",
       "      <td>1</td>\n",
       "      <td>10</td>\n",
       "    </tr>\n",
       "  </tbody>\n",
       "</table>\n",
       "</div>"
      ],
      "text/plain": [
       "   A  B  value\n",
       "0  0  0     30\n",
       "1  0  1      5\n",
       "2  1  0      1\n",
       "3  1  1     10"
      ]
     },
     "execution_count": 29,
     "metadata": {},
     "output_type": "execute_result"
    }
   ],
   "source": [
    "phi0"
   ]
  },
  {
   "cell_type": "markdown",
   "metadata": {},
   "source": [
    "<a id='5.'></a>\n",
    "## 5. CGBP Algorithm\n",
    "\n",
    "Now we are going to implement and simulate the CGBP algorithm on the misconception example. First we need to initialize everything that we need for the algorithm to run."
   ]
  },
  {
   "cell_type": "markdown",
   "metadata": {},
   "source": [
    "<a id='5.1'></a>\n",
    "### 5.1 Preparations: Create Cluster Graph\n",
    "\n",
    "The most important part is to have an actual cluster graph. Since there are multiple possibilities for this setup, we need to specify explicitly, which factors belong to which cluster. We do this by referencing simply the indices of the factors:"
   ]
  },
  {
   "cell_type": "code",
   "execution_count": 30,
   "metadata": {
    "collapsed": true
   },
   "outputs": [],
   "source": [
    "# for every cluster: list of corresponding factor indices\n",
    "clusters = [\n",
    "    [0],\n",
    "    [1],\n",
    "    [2],\n",
    "    [3]\n",
    "]"
   ]
  },
  {
   "cell_type": "markdown",
   "metadata": {},
   "source": [
    "This setup now corresponds to the following cluster graph with 4 clusters, each representing only one of the original factors:\n",
    "\n",
    "<img src=\"cluster_graph.png\" width=\"200px\" />\n",
    "\n",
    "The next step will be to store some properties of the cluster graph in easy-to-access data structures for the later algorithm. These properties can be extracted purely from the current setup."
   ]
  },
  {
   "cell_type": "code",
   "execution_count": 31,
   "metadata": {
    "collapsed": true
   },
   "outputs": [],
   "source": [
    "# for every cluster: list of actual factors\n",
    "cluster_factors = [\n",
    "    [factors[f] for f in c]\n",
    "    for c in clusters\n",
    "]"
   ]
  },
  {
   "cell_type": "markdown",
   "metadata": {},
   "source": [
    "Here we collected the actual factor tables for the clusters, not just the indices. Now we can e.g. extract all tables of cluster 0 (here this is only the first factor):"
   ]
  },
  {
   "cell_type": "code",
   "execution_count": 32,
   "metadata": {
    "collapsed": false
   },
   "outputs": [
    {
     "data": {
      "text/plain": [
       "[   A  B  value\n",
       " 0  0  0     30\n",
       " 1  0  1      5\n",
       " 2  1  0      1\n",
       " 3  1  1     10]"
      ]
     },
     "execution_count": 32,
     "metadata": {},
     "output_type": "execute_result"
    }
   ],
   "source": [
    "cluster_factors[0]"
   ]
  },
  {
   "cell_type": "code",
   "execution_count": 33,
   "metadata": {
    "collapsed": true
   },
   "outputs": [],
   "source": [
    "# for every cluster: union set of all variables in contained factors\n",
    "cluster_vars = [\n",
    "    set(\n",
    "        reduce(\n",
    "            lambda x, y: x + y,\n",
    "            [table_varnames(f) for f in c]\n",
    "        )\n",
    "    )\n",
    "    for c in cluster_factors\n",
    "]"
   ]
  },
  {
   "cell_type": "markdown",
   "metadata": {},
   "source": [
    "Here we extract the list of variables present in every cluster. E.g. cluster 0 has factors about the variables A and B:"
   ]
  },
  {
   "cell_type": "code",
   "execution_count": 34,
   "metadata": {
    "collapsed": false
   },
   "outputs": [
    {
     "data": {
      "text/plain": [
       "{'A', 'B'}"
      ]
     },
     "execution_count": 34,
     "metadata": {},
     "output_type": "execute_result"
    }
   ],
   "source": [
    "cluster_vars[0]"
   ]
  },
  {
   "cell_type": "code",
   "execution_count": 35,
   "metadata": {
    "collapsed": true
   },
   "outputs": [],
   "source": [
    "# list of all cluster edges (bidirectional)\n",
    "# e.g. with indices (0, 1) for edge between clusters 0 and 1\n",
    "cluster_edges = list({\n",
    "    (c1, c2)\n",
    "    for c1, var1 in enumerate(cluster_vars)\n",
    "    for c2, var2 in enumerate(cluster_vars)\n",
    "    if var1 & var2 and c1 != c2\n",
    "})"
   ]
  },
  {
   "cell_type": "markdown",
   "metadata": {},
   "source": [
    "Here we check, which clusters are connected through sharing a variable and create two edges (bidirectional!) for every connection. In our setup we have 4*2=8 edges:"
   ]
  },
  {
   "cell_type": "code",
   "execution_count": 36,
   "metadata": {
    "collapsed": false
   },
   "outputs": [
    {
     "name": "stdout",
     "output_type": "stream",
     "text": [
      "[(0, 1), (1, 2), (3, 2), (3, 0), (2, 1), (2, 3), (1, 0), (0, 3)]\n",
      "# edges: 8\n"
     ]
    }
   ],
   "source": [
    "print(cluster_edges)\n",
    "print(\"# edges: {}\".format(len(cluster_edges)))"
   ]
  },
  {
   "cell_type": "code",
   "execution_count": 37,
   "metadata": {
    "collapsed": true
   },
   "outputs": [],
   "source": [
    "# for every edge: sepset of variables\n",
    "edge_sepsets = [\n",
    "    cluster_vars[c1] & cluster_vars[c2]\n",
    "    for (c1, c2) in cluster_edges\n",
    "]"
   ]
  },
  {
   "cell_type": "markdown",
   "metadata": {},
   "source": [
    "Now we can calculate the sepset for every edge. E.g. the sepset between clusters 0 and 1 is B:"
   ]
  },
  {
   "cell_type": "code",
   "execution_count": 38,
   "metadata": {
    "collapsed": false
   },
   "outputs": [
    {
     "name": "stdout",
     "output_type": "stream",
     "text": [
      "{'B'}\n"
     ]
    }
   ],
   "source": [
    "for edge, sepset in zip(cluster_edges, edge_sepsets):\n",
    "    if edge == (0,1):\n",
    "        print(sepset)"
   ]
  },
  {
   "cell_type": "code",
   "execution_count": 39,
   "metadata": {
    "collapsed": true
   },
   "outputs": [],
   "source": [
    "# for every cluster: initial potential as sum of all contained factors\n",
    "initial_potentials = [\n",
    "    reduce(multiply_tables, [f for f in c])\n",
    "    for c in cluster_factors\n",
    "]"
   ]
  },
  {
   "cell_type": "markdown",
   "metadata": {},
   "source": [
    "Also we can calculate the initial potentials, which is just factor multiplication of all factors in a cluster. Since we only have one factor in every cluster here, we just get the original factors."
   ]
  },
  {
   "cell_type": "code",
   "execution_count": 40,
   "metadata": {
    "collapsed": false
   },
   "outputs": [
    {
     "data": {
      "text/html": [
       "<div>\n",
       "<table border=\"1\" class=\"dataframe\">\n",
       "  <thead>\n",
       "    <tr style=\"text-align: right;\">\n",
       "      <th></th>\n",
       "      <th>A</th>\n",
       "      <th>B</th>\n",
       "      <th>value</th>\n",
       "    </tr>\n",
       "  </thead>\n",
       "  <tbody>\n",
       "    <tr>\n",
       "      <th>0</th>\n",
       "      <td>0</td>\n",
       "      <td>0</td>\n",
       "      <td>30</td>\n",
       "    </tr>\n",
       "    <tr>\n",
       "      <th>1</th>\n",
       "      <td>0</td>\n",
       "      <td>1</td>\n",
       "      <td>5</td>\n",
       "    </tr>\n",
       "    <tr>\n",
       "      <th>2</th>\n",
       "      <td>1</td>\n",
       "      <td>0</td>\n",
       "      <td>1</td>\n",
       "    </tr>\n",
       "    <tr>\n",
       "      <th>3</th>\n",
       "      <td>1</td>\n",
       "      <td>1</td>\n",
       "      <td>10</td>\n",
       "    </tr>\n",
       "  </tbody>\n",
       "</table>\n",
       "</div>"
      ],
      "text/plain": [
       "   A  B  value\n",
       "0  0  0     30\n",
       "1  0  1      5\n",
       "2  1  0      1\n",
       "3  1  1     10"
      ]
     },
     "execution_count": 40,
     "metadata": {},
     "output_type": "execute_result"
    }
   ],
   "source": [
    "initial_potentials[0]"
   ]
  },
  {
   "cell_type": "markdown",
   "metadata": {},
   "source": [
    "<a id='5.2'></a>\n",
    "### 5.2 Initializations\n",
    "\n",
    "Now we need to initialize two things before we can start: the messages for every edge and some instruction on which order to use for the message update.\n",
    "\n",
    "The messages are usually initialized to 1. Which means a factor table over the sepset of the edge will all values being 1."
   ]
  },
  {
   "cell_type": "code",
   "execution_count": 41,
   "metadata": {
    "collapsed": true
   },
   "outputs": [],
   "source": [
    "def initialize_messages():\n",
    "    \"\"\"Create initial messages, all with value = 1.\n",
    "        \n",
    "        returns: list of all initial messages\n",
    "    \"\"\"\n",
    "    \n",
    "    return [\n",
    "        make_empty_table(variables, sepset, fill_value = 1)\n",
    "        for sepset in edge_sepsets\n",
    "    ]"
   ]
  },
  {
   "cell_type": "markdown",
   "metadata": {},
   "source": [
    "E.g. for the edge between clusters 0 and 1, this is a table only over the variable B:"
   ]
  },
  {
   "cell_type": "code",
   "execution_count": 42,
   "metadata": {
    "collapsed": false
   },
   "outputs": [
    {
     "name": "stdout",
     "output_type": "stream",
     "text": [
      "   B  value\n",
      "0  0      1\n",
      "1  1      1\n"
     ]
    }
   ],
   "source": [
    "messages = initialize_messages()\n",
    "for edge, msg in zip(cluster_edges, messages):\n",
    "    if edge == (0,1):\n",
    "        print(msg)"
   ]
  },
  {
   "cell_type": "markdown",
   "metadata": {},
   "source": [
    "For the message scheduling, we use just random selection here. This will not result in the best performance, but will suffice for demonstration purposes:"
   ]
  },
  {
   "cell_type": "code",
   "execution_count": 43,
   "metadata": {
    "collapsed": true
   },
   "outputs": [],
   "source": [
    "import random\n",
    "def pick_edge_for_update(edges):\n",
    "    \"\"\"Select random edge for update.\n",
    "    \n",
    "        edges: list of edges to select from\n",
    "        \n",
    "        returns: index and edge, randomly selected\n",
    "    \"\"\"\n",
    "    \n",
    "    idx = random.randint(0, len(edges) - 1)\n",
    "    return idx, edges[idx]\n"
   ]
  },
  {
   "cell_type": "markdown",
   "metadata": {},
   "source": [
    "<a id='5.3'></a>\n",
    "### 5.3 Simulation run\n",
    "\n",
    "Now we can actually run a simulation of the CGBP algorithm. One important part for this to work in practice is the message normalization, where after every update, the message will be rescaled to sum to one. Otherwise numerical errors will appear very quickly. The message normalization is not actually documented in \n",
    "> Koller, Daphne, and Nir Friedman. *Probabilistic Graphical Models: Principles and Techniques.* Cambridge, MA: MIT, 2009. Print.\n",
    "\n",
    "but widely used in practice.\n",
    "\n",
    "Note that the actual execution of the following code block can take a couple of seconds."
   ]
  },
  {
   "cell_type": "code",
   "execution_count": 44,
   "metadata": {
    "collapsed": false
   },
   "outputs": [],
   "source": [
    "# how many iterations should we simulate?\n",
    "# in test runs, convergence took usually around 200-300 steps\n",
    "iterations = 500\n",
    "\n",
    "# collector list for storing the belief values over time\n",
    "# the initial beliefs are the initial potentials\n",
    "beliefs_coll = [initial_potentials]\n",
    "\n",
    "# initialized messages\n",
    "messages = initialize_messages()\n",
    "\n",
    "for _ in range(iterations):\n",
    "\n",
    "    # pick some edge/msg to update\n",
    "    edge_idx, (i, j) = pick_edge_for_update(cluster_edges)\n",
    "    msg = messages[edge_idx]\n",
    "\n",
    "    # collect all incoming msgs that do not come from the edge to update\n",
    "    incoming_msgs = [\n",
    "        msg\n",
    "        for (c1, c2), msg in zip(cluster_edges, messages)\n",
    "        if c2 == i and c1 != j\n",
    "    ]\n",
    "\n",
    "    # multiply the tables from all incoming msgs\n",
    "    initial_table = make_empty_table([], [], fill_value = 1)\n",
    "    incoming_msgs_prod = reduce(multiply_tables, incoming_msgs, initial_table)\n",
    "\n",
    "    # update potential\n",
    "    incoming_with_potential = multiply_tables(initial_potentials[i],\n",
    "                                              incoming_msgs_prod)\n",
    "\n",
    "    # update message with marginalization over potential\n",
    "    cluster_vars_without_sepset = cluster_vars[i] - edge_sepsets[edge_idx]\n",
    "    messages[edge_idx] = marginalize(incoming_with_potential,\n",
    "                                     cluster_vars_without_sepset)\n",
    "\n",
    "    # message normalization\n",
    "    msg_sum = messages[edge_idx]['value'].sum()\n",
    "    messages[edge_idx]['value'] /= msg_sum\n",
    "\n",
    "    # multiply all incoming messages for all clusters\n",
    "    all_incoming_msgs_prod = [\n",
    "        reduce(\n",
    "            multiply_tables,\n",
    "            [msg\n",
    "             for (_, c2), msg in zip(cluster_edges, messages)\n",
    "             if c2 == i]\n",
    "        )\n",
    "        for i, _ in enumerate(clusters)\n",
    "    ]\n",
    "    \n",
    "    # update current beliefs\n",
    "    current_beliefs = [\n",
    "        multiply_tables(initial_potentials[i], all_incoming_msgs_prod[i])\n",
    "        for i, _ in enumerate(clusters)\n",
    "    ]\n",
    "    \n",
    "    # store beliefs over time\n",
    "    beliefs_coll.append(current_beliefs)"
   ]
  },
  {
   "cell_type": "markdown",
   "metadata": {},
   "source": [
    "<a id='5.4'></a>\n",
    "### 5.4 Plotting\n",
    "\n",
    "Now we have a list of all belief updates over time, which we can use for plotting the simulation results.\n",
    "\n",
    "For the actual plotting it makes sense to convert the belief values in \"probabilities\", i.e. to normalize them. Note that these probabilities to not correspond to the real ones, but are the approximated beliefs for these probabilities."
   ]
  },
  {
   "cell_type": "code",
   "execution_count": 45,
   "metadata": {
    "collapsed": true
   },
   "outputs": [],
   "source": [
    "def normalize_belief(belief):\n",
    "    \"\"\"Normalize a belief.\n",
    "        \n",
    "        belief: the belief to normalize\n",
    "        \n",
    "        returns: a normalized copy of the belief\n",
    "    \"\"\"\n",
    "    \n",
    "    # copying is important in order to not have any side effects\n",
    "    b = belief.copy()\n",
    "    s = b['value'].sum()\n",
    "    b['value'] /= s\n",
    "    return b"
   ]
  },
  {
   "cell_type": "code",
   "execution_count": 46,
   "metadata": {
    "collapsed": false
   },
   "outputs": [
    {
     "data": {
      "image/png": "[encoded data removed]",
      "text/plain": [
       "<matplotlib.figure.Figure at 0x10ffa4d30>"
      ]
     },
     "metadata": {},
     "output_type": "display_data"
    },
    {
     "data": {
      "image/png": "[encoded data removed]",
      "text/plain": [
       "<matplotlib.figure.Figure at 0x113b46550>"
      ]
     },
     "metadata": {},
     "output_type": "display_data"
    },
    {
     "data": {
      "image/png": "[encoded data removed]",
      "text/plain": [
       "<matplotlib.figure.Figure at 0x113c5b1d0>"
      ]
     },
     "metadata": {},
     "output_type": "display_data"
    },
    {
     "data": {
      "image/png": "[encoded data removed]",
      "text/plain": [
       "<matplotlib.figure.Figure at 0x113d85588>"
      ]
     },
     "metadata": {},
     "output_type": "display_data"
    }
   ],
   "source": [
    "import matplotlib.pyplot as plt\n",
    "%matplotlib inline\n",
    "\n",
    "# make a figure for every belief (cluster)\n",
    "for belief_i in range(len(clusters)):\n",
    "    plt.figure()\n",
    "    \n",
    "    # extract and normalize only belief for current plot\n",
    "    belief_over_time = [beliefs[belief_i] for beliefs in beliefs_coll]\n",
    "    norm_belief = [normalize_belief(belief) for belief in belief_over_time]\n",
    "\n",
    "    # plot all assignment values for current belief\n",
    "    belief_rows = len(initial_potentials[belief_i])\n",
    "    for row in range(belief_rows):\n",
    "        \n",
    "        # extract the raw values for this assignment\n",
    "        line = [\n",
    "            norm_belief[t]['value'][row]\n",
    "            for t in range(len(norm_belief))\n",
    "        ]\n",
    "        \n",
    "        # extract the assignment description (for labeling in the legend)\n",
    "        assignment = {\n",
    "            var: initial_potentials[belief_i][var][row]\n",
    "            for var in table_varnames(initial_potentials[belief_i])\n",
    "        }\n",
    "        \n",
    "        # plot the line\n",
    "        plt.plot(line, label = \"P({})\".format(assignment))\n",
    "    \n",
    "    # make plot title and legend\n",
    "    varnames = table_varnames(initial_potentials[belief_i])\n",
    "    plt.title(\"Belief #{} over {}\".format(belief_i, varnames))\n",
    "    plt.legend(bbox_to_anchor=(1.05,1), loc='upper left', borderaxespad=0.0)\n",
    "\n",
    "plt.show()\n"
   ]
  }
 ],
 "metadata": {
  "kernelspec": {
   "display_name": "Python 3",
   "language": "python",
   "name": "python3"
  },
  "language_info": {
   "codemirror_mode": {
    "name": "ipython",
    "version": 3
   },
   "file_extension": ".py",
   "mimetype": "text/x-python",
   "name": "python",
   "nbconvert_exporter": "python",
   "pygments_lexer": "ipython3",
   "version": "3.5.2"
  },
  "nav_menu": {},
  "toc": {
   "navigate_menu": true,
   "number_sections": false,
   "sideBar": true,
   "threshold": 6,
   "toc_cell": false,
   "toc_section_display": "none",
   "toc_window_display": false
  },
  "toc_position": {
   "height": "1182px",
   "left": "0px",
   "right": "1068px",
   "top": "106px",
   "width": "334px"
  }
 },
 "nbformat": 4,
 "nbformat_minor": 0
}
